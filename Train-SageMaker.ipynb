{
 "cells": [
  {
   "cell_type": "markdown",
   "metadata": {},
   "source": [
    "## Training a Custom TensorFlow Model in SageMaker\n",
    "\n",
    "Let's see how to train a custom tensorflow model in the cloud using SageMaker's training service.\n",
    "\n",
    "Remember to build train.py script and use it as a entry_pont when you create the tensorflowmodel\n"
   ]
  },
  {
   "cell_type": "markdown",
   "metadata": {},
   "source": [
    "### Import dependencies"
   ]
  },
  {
   "cell_type": "code",
   "execution_count": null,
   "metadata": {},
   "outputs": [],
   "source": [
    "import sagemaker\n",
    "# import os\n",
    "from sagemaker.tensorflow import TensorFlow\n",
    "from sagemaker.tensorflow import TensorFlowModel\n",
    "# import boto3\n",
    "# import io \n",
    "import numpy as np\n",
    "# import sagemaker.amazon.common as smac\n",
    "# from s3fs.core import S3FileSystem\n",
    "\n",
    "from sagemaker import get_execution_role\n",
    "role = get_execution_role()\n",
    "sagemaker_session = sagemaker.Session()\n",
    "region = sagemaker_session.boto_session.region_name\n"
   ]
  },
  {
   "cell_type": "markdown",
   "metadata": {},
   "source": [
    "## Setup SageMaker"
   ]
  },
  {
   "cell_type": "markdown",
   "metadata": {},
   "source": [
    "## Docker image and job_name"
   ]
  },
  {
   "cell_type": "code",
   "execution_count": null,
   "metadata": {},
   "outputs": [],
   "source": [
    "from datetime import datetime\n",
    "date = datetime.now().strftime(\"%y%m%d-%H%M%S\")\n",
    "\n",
    "image_uri_cpu='763104351884.dkr.ecr.{}.amazonaws.com/tensorflow-training:2.3.1-cpu-py37-ubuntu18.04'.format(region)\n",
    "image_uri_gpu='763104351884.dkr.ecr.{}.amazonaws.com/tensorflow-training:2.3.1-gpu-py37-cu102-ubuntu18.04'.format(region)\n",
    "image_uri = image_uri_gpu\n",
    "\n",
    "epochs = 200\n",
    "\n",
    "instance_type = 'ml.m5.large'\n",
    "\n",
    "device='gpu'\n",
    "\n",
    "job_name = '{}-hand-gesture-{}-{}-{}e'.format(\n",
    "    date,\n",
    "    instance_type.replace('.','-').replace('ml-', ''),\n",
    "    device,\n",
    "    epochs)"
   ]
  },
  {
   "cell_type": "markdown",
   "metadata": {},
   "source": [
    "## Build a TensorFlow Estimator"
   ]
  },
  {
   "cell_type": "code",
   "execution_count": 3,
   "metadata": {},
   "outputs": [],
   "source": [
    "estimator = TensorFlow(entry_point='train.py',\n",
    "                      role=role,\n",
    "                      instance_count=1,\n",
    "                      instance_type=instance_type,\n",
    "                      image_uri=image_uri,\n",
    "                      model_dir='s3://sagemaker-us-east-1-410677554255/tensorflow2/',\n",
    "                      hyperparameters={\n",
    "                          'epochs': epochs\n",
    "                      },\n",
    "                      script_mode=False)"
   ]
  },
  {
   "cell_type": "code",
   "execution_count": 4,
   "metadata": {},
   "outputs": [
    {
     "data": {
      "text/plain": [
       "{'epochs': '200',\n",
       " 'model_dir': '\"s3://sagemaker-us-east-1-410677554255/tensorflow2/\"'}"
      ]
     },
     "execution_count": 4,
     "metadata": {},
     "output_type": "execute_result"
    }
   ],
   "source": [
    "estimator.hyperparameters()"
   ]
  },
  {
   "cell_type": "markdown",
   "metadata": {},
   "source": [
    "# Start Training Job\n",
    "( Only train if you don´t have any tensorflow model yet)"
   ]
  },
  {
   "cell_type": "markdown",
   "metadata": {},
   "source": [
    "# Con GPU\n"
   ]
  },
  {
   "cell_type": "code",
   "execution_count": 7,
   "metadata": {},
   "outputs": [],
   "source": [
    "estimator.fit({'train': 's3://sagemaker-us-east-1-410677554255/hand_gesture_tensorflow/data/'\n",
    "               },\n",
    "              wait=False, # True makes notebook wait and logs output in real time\n",
    "              job_name=job_name)\n",
    "             "
   ]
  },
  {
   "cell_type": "code",
   "execution_count": 7,
   "metadata": {
    "scrolled": true
   },
   "outputs": [
    {
     "name": "stdout",
     "output_type": "stream",
     "text": [
      "\n",
      "2022-11-23 17:20:28 Starting - Starting the training job.\n",
      "2022-11-23 17:20:42 Starting - Preparing the instances for training............\n",
      "2022-11-23 17:21:49 Downloading - Downloading input data....\n",
      "2022-11-23 17:22:14 Training - Downloading the training image.............................\n",
      "2022-11-23 17:24:45 Training - Training image download completed. Training in progress................\n",
      "2022-11-23 17:26:05 Uploading - Uploading generated training model.\n",
      "2022-11-23 17:26:16 Completed - Training job completed\n"
     ]
    },
    {
     "data": {
      "text/plain": [
       "<sagemaker.tensorflow.estimator.TensorFlow at 0x7f0f447c0520>"
      ]
     },
     "execution_count": 7,
     "metadata": {},
     "output_type": "execute_result"
    }
   ],
   "source": [
    "estimator.attach(job_name)"
   ]
  },
  {
   "cell_type": "code",
   "execution_count": 12,
   "metadata": {
    "scrolled": true
   },
   "outputs": [
    {
     "data": {
      "text/plain": [
       "<sagemaker.tensorflow.estimator.TensorFlow at 0x7f0f8674d9a0>"
      ]
     },
     "execution_count": 12,
     "metadata": {},
     "output_type": "execute_result"
    }
   ],
   "source": [
    "estimator"
   ]
  },
  {
   "cell_type": "markdown",
   "metadata": {},
   "source": [
    "# Load the estimator"
   ]
  },
  {
   "cell_type": "code",
   "execution_count": 4,
   "metadata": {},
   "outputs": [],
   "source": [
    "model = TensorFlowModel(model_data='s3://sagemaker-us-east-1-410677554255/221123-172023-hand-gesture-m5-large-gpu-200e/output/model.tar.gz',\n",
    "                        role=role,\n",
    "                       image_uri = '763104351884.dkr.ecr.us-east-1.amazonaws.com/tensorflow-inference:2.2.0-gpu-py37-cu102-ubuntu18.04' )\n",
    "\n"
   ]
  },
  {
   "cell_type": "markdown",
   "metadata": {},
   "source": [
    "# Deploying the model"
   ]
  },
  {
   "cell_type": "code",
   "execution_count": 5,
   "metadata": {},
   "outputs": [
    {
     "data": {
      "text/plain": [
       "sagemaker.tensorflow.model.TensorFlowModel"
      ]
     },
     "execution_count": 5,
     "metadata": {},
     "output_type": "execute_result"
    }
   ],
   "source": [
    "type(model)"
   ]
  },
  {
   "cell_type": "code",
   "execution_count": 6,
   "metadata": {},
   "outputs": [
    {
     "name": "stderr",
     "output_type": "stream",
     "text": [
      "update_endpoint is a no-op in sagemaker>=2.\n",
      "See: https://sagemaker.readthedocs.io/en/stable/v2.html for details.\n"
     ]
    },
    {
     "name": "stdout",
     "output_type": "stream",
     "text": [
      "-------!"
     ]
    }
   ],
   "source": [
    "tensorflow_model = model.deploy(initial_instance_count=1, instance_type='ml.c4.xlarge')"
   ]
  },
  {
   "cell_type": "markdown",
   "metadata": {},
   "source": [
    "# Inference"
   ]
  },
  {
   "cell_type": "code",
   "execution_count": 8,
   "metadata": {},
   "outputs": [],
   "source": [
    "result  = tensorflow_model.predict([0.0,0.0,-0.1527777777777778,-0.12037037037037036,-0.2175925925925926,-0.3101851851851852,-0.125,-0.44907407407407407,0.004629629629629629,-0.5,-0.14351851851851852,-0.4861111111111111,-0.20833333333333334,-0.6851851851851852,-0.24074074074074073,-0.8055555555555556,-0.2638888888888889,-0.9166666666666666,-0.023148148148148147,-0.49537037037037035,0.004629629629629629,-0.7453703703703703,0.009259259259259259,-0.8796296296296297,0.027777777777777776,-1.0,0.07407407407407407,-0.44907407407407407,0.0787037037037037,-0.6435185185185185,0.009259259259259259,-0.5046296296296297,-0.018518518518518517,-0.38425925925925924,0.16203703703703703,-0.36574074074074076,0.1388888888888889,-0.5046296296296297,0.06481481481481481,-0.42592592592592593,0.023148148148148147,-0.3333333333333333])"
   ]
  },
  {
   "cell_type": "code",
   "execution_count": 9,
   "metadata": {},
   "outputs": [
    {
     "data": {
      "text/plain": [
       "4"
      ]
     },
     "execution_count": 9,
     "metadata": {},
     "output_type": "execute_result"
    }
   ],
   "source": [
    "\n",
    "np.argmax(result['predictions'])"
   ]
  },
  {
   "cell_type": "code",
   "execution_count": 11,
   "metadata": {},
   "outputs": [
    {
     "data": {
      "text/plain": [
       "<sagemaker.tensorflow.model.TensorFlowPredictor at 0x7f53cf02f850>"
      ]
     },
     "execution_count": 11,
     "metadata": {},
     "output_type": "execute_result"
    }
   ],
   "source": [
    "tensorflow_model"
   ]
  }
 ],
 "metadata": {
  "kernelspec": {
   "display_name": "conda_tensorflow2_p38",
   "language": "python",
   "name": "conda_tensorflow2_p38"
  },
  "language_info": {
   "codemirror_mode": {
    "name": "ipython",
    "version": 3
   },
   "file_extension": ".py",
   "mimetype": "text/x-python",
   "name": "python",
   "nbconvert_exporter": "python",
   "pygments_lexer": "ipython3",
   "version": "3.8.12"
  },
  "vscode": {
   "interpreter": {
    "hash": "1e1df00a394935ec324c6ff031bf5c5623f263ddcd646e8dc20dfce6e25020db"
   }
  }
 },
 "nbformat": 4,
 "nbformat_minor": 4
}
